{
  "nbformat": 4,
  "nbformat_minor": 0,
  "metadata": {
    "colab": {
      "provenance": [],
      "toc_visible": true
    },
    "kernelspec": {
      "name": "python3",
      "display_name": "Python 3"
    },
    "language_info": {
      "name": "python"
    }
  },
  "cells": [
    {
      "cell_type": "markdown",
      "source": [
        "Suppose the IQ in a certain population is normally distributed with a mean of µ 100 and standard deviation of o 15.\n",
        "\n",
        "A researcher wants to know if a new drug affects IQ levels, so he recruits 20 patients to try it and records their IQ levels.\n",
        "\n",
        "The following code shows how to perform a one sample z-test in Python to determine if the new drug causes a significant difference in IQ levels:\n",
        "\n",
        "#enter IQ Levels for 20 patients\n",
        "\n",
        "data=[88, 92, 94, 94, 96, 97, 97, 97, 99, 99, 105, 109, 109, 109, 110, 112, 112, 113, 114, 115]\n",
        "\n"
      ],
      "metadata": {
        "id": "IQZn288IBnu8"
      }
    },
    {
      "cell_type": "code",
      "execution_count": 2,
      "metadata": {
        "colab": {
          "base_uri": "https://localhost:8080/"
        },
        "id": "ubeiyZuYBjp0",
        "outputId": "4389732b-08f8-4186-d283-244c6459f56b"
      },
      "outputs": [
        {
          "output_type": "execute_result",
          "data": {
            "text/plain": [
              "(1.5976240527147705, 0.1101266701438426)"
            ]
          },
          "metadata": {},
          "execution_count": 2
        }
      ],
      "source": [
        "from statsmodels.stats.weightstats import ztest as ztest # use for z test\n",
        "data=[88, 92, 94, 94, 96, 97, 97, 97, 99, 99, 105, 109, 109, 109, 110, 112, 112, 113, 114, 115]\n",
        "\n",
        "ztest(data,value=100)"
      ]
    },
    {
      "cell_type": "markdown",
      "source": [
        "1.5976240527147705 = z value ..\n",
        "0.1101266701438426 = p value"
      ],
      "metadata": {
        "id": "4EANPWWjEcQn"
      }
    },
    {
      "cell_type": "code",
      "source": [],
      "metadata": {
        "id": "ln_FxdIpD2xZ"
      },
      "execution_count": null,
      "outputs": []
    }
  ]
}